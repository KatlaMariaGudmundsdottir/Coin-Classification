{
 "cells": [
  {
   "cell_type": "code",
   "execution_count": 13,
   "metadata": {},
   "outputs": [],
   "source": [
    "import skimage as ski  # Image handling library\n",
    "import numpy as np  # Basic array handling\n",
    "import matplotlib.pyplot as plt  # Plotting results\n",
    "import os  # Dealing with paths and loading images"
   ]
  },
  {
   "cell_type": "markdown",
   "metadata": {},
   "source": [
    "# Data exploration\n",
    "There are six categories of data given to us:\n",
    "* Categories 1 - 3 are neutral, noisy, hand respectively with only CHF & EUR\n",
    "* Categories 4 - 6 are neutral, noisy, with CHF, EUR & OOD currencies"
   ]
  },
  {
   "cell_type": "markdown",
   "metadata": {},
   "source": [
    "## Load in the images\n",
    "**Note**: The following code is very slow. Why?"
   ]
  },
  {
   "cell_type": "code",
   "execution_count": 23,
   "metadata": {},
   "outputs": [
    {
     "name": "stdout",
     "output_type": "stream",
     "text": [
      "16\n"
     ]
    }
   ],
   "source": [
    "path_to_train = \"data/train/\"\n",
    "train_folders = sorted(os.listdir(path_to_train))\n",
    "train_folders\n",
    "\n",
    "train_images_grouped = []\n",
    "for folder in train_folders:\n",
    "    train_images = []\n",
    "    folder_path = os.path.join(path_to_train, folder)\n",
    "    images = os.listdir(folder_path)\n",
    "    for image in images:\n",
    "        image_path = os.path.join(folder_path, image)\n",
    "        train_images.append(ski.io.imread(image_path))\n",
    "    train_images_grouped.append(train_images)\n",
    "\n",
    "neutral_bg, noisy_bg, hand_bg, neutral_bg_ood, noisy_bg_ood, hand_bg_ood = (\n",
    "    train_images_grouped\n",
    ")"
   ]
  },
  {
   "cell_type": "markdown",
   "metadata": {},
   "source": [
    "Simple sanity check for loading in correct number of images."
   ]
  },
  {
   "cell_type": "code",
   "execution_count": 28,
   "metadata": {},
   "outputs": [
    {
     "name": "stdout",
     "output_type": "stream",
     "text": [
      "1th set: 16\n",
      "2th set: 15\n",
      "3th set: 10\n",
      "4th set: 17\n",
      "5th set: 16\n",
      "6th set: 7\n",
      "Total number of training images: 81\n"
     ]
    }
   ],
   "source": [
    "N = 0\n",
    "for i, train_images in enumerate(train_images_grouped):\n",
    "    l = len(train_images)\n",
    "    N += l\n",
    "    print(f\"{i + 1}th set:\", l)\n",
    "print(f\"Total number of training images: {N}\")"
   ]
  }
 ],
 "metadata": {
  "kernelspec": {
   "display_name": "iapr",
   "language": "python",
   "name": "python3"
  },
  "language_info": {
   "codemirror_mode": {
    "name": "ipython",
    "version": 3
   },
   "file_extension": ".py",
   "mimetype": "text/x-python",
   "name": "python",
   "nbconvert_exporter": "python",
   "pygments_lexer": "ipython3",
   "version": "3.9.18"
  }
 },
 "nbformat": 4,
 "nbformat_minor": 2
}
