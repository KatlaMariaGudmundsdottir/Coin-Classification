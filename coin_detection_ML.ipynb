{
 "cells": [
  {
   "cell_type": "markdown",
   "metadata": {},
   "source": [
    "# Training ResNet-50 for object localization"
   ]
  },
  {
   "cell_type": "markdown",
   "metadata": {},
   "source": [
    "Run the next cell if you want to re-train the model on custom data. The model will be saved as \"coin_detector.pth\" in the root folder.\n",
    "\n",
    "**IMPORTANT:** The folder structure of the training dataset must follow exactly:\n",
    "```\n",
    "dataset\n",
    "├── images\n",
    "│   ├── L1010277.JPG\n",
    "├── annotations\n",
    "│   ├── L1010277 [1].xml\n",
    "```\n"
   ]
  },
  {
   "cell_type": "code",
   "execution_count": null,
   "metadata": {},
   "outputs": [],
   "source": [
    "import os\n",
    "import torch\n",
    "import torch.utils.data\n",
    "import torchvision\n",
    "from torchvision.models.detection import fasterrcnn_resnet50_fpn\n",
    "from torchvision.models.detection.faster_rcnn import FastRCNNPredictor\n",
    "import xml.etree.ElementTree as ET\n",
    "from PIL import Image\n",
    "\n",
    "\n",
    "# Parser for data\n",
    "class CoinDataset(torch.utils.data.Dataset):\n",
    "    def __init__(self, root, transforms=None):\n",
    "        self.root = root\n",
    "        self.transforms = transforms\n",
    "        self.imgs = list(sorted(os.listdir(os.path.join(root, \"images\"))))\n",
    "        self.annotations = list(sorted(os.listdir(os.path.join(root, \"annotations\"))))\n",
    "\n",
    "    def __getitem__(self, idx):\n",
    "        img_path = os.path.join(self.root, \"images\", self.imgs[idx])\n",
    "        ann_path = os.path.join(self.root, \"annotations\", self.annotations[idx])\n",
    "        img = Image.open(img_path).convert(\"RGB\")\n",
    "\n",
    "        boxes = []\n",
    "        tree = ET.parse(ann_path)\n",
    "        root = tree.getroot()\n",
    "        for obj in root.findall(\"object\"):\n",
    "            bbox = obj.find(\"bndbox\")\n",
    "            xmin = float(bbox.find(\"xmin\").text)\n",
    "            ymin = float(bbox.find(\"ymin\").text)\n",
    "            xmax = float(bbox.find(\"xmax\").text)\n",
    "            ymax = float(bbox.find(\"ymax\").text)\n",
    "            boxes.append([xmin, ymin, xmax, ymax])\n",
    "\n",
    "        boxes = torch.as_tensor(boxes, dtype=torch.float32)\n",
    "        labels = torch.ones((len(boxes),), dtype=torch.int64)\n",
    "        target = {\"boxes\": boxes, \"labels\": labels}\n",
    "\n",
    "        if self.transforms is not None:\n",
    "            img = self.transforms(img)\n",
    "\n",
    "        return img, target\n",
    "\n",
    "    def __len__(self):\n",
    "        return len(self.imgs)\n",
    "\n",
    "\n",
    "# Use a pre-trained Faster R-CNN model, pre-trained on ImageNet\n",
    "model = fasterrcnn_resnet50_fpn(pretrained=True)\n",
    "num_classes = 2  # Background and coin\n",
    "in_features = model.roi_heads.box_predictor.cls_score.in_features\n",
    "model.roi_heads.box_predictor = FastRCNNPredictor(in_features, num_classes)\n",
    "\n",
    "# Data transforms\n",
    "transforms = torchvision.transforms.Compose(\n",
    "    [\n",
    "        torchvision.transforms.ToTensor(),\n",
    "    ]\n",
    ")\n",
    "\n",
    "# Load the dataset\n",
    "dataset = CoinDataset(\"dataset/\", transforms=transforms)\n",
    "data_loader = torch.utils.data.DataLoader(\n",
    "    dataset,\n",
    "    batch_size=4,\n",
    "    shuffle=True,\n",
    "    num_workers=0,\n",
    "    collate_fn=lambda batch: tuple(zip(*batch)),\n",
    ")\n",
    "\n",
    "# Fine-tune the model based on our labelled training data\n",
    "device = torch.device(\"cuda\" if torch.cuda.is_available() else \"cpu\")\n",
    "model.to(device)\n",
    "params = [p for p in model.parameters() if p.requires_grad]\n",
    "optimizer = torch.optim.SGD(params, lr=0.005, momentum=0.9, weight_decay=0.0005)\n",
    "num_epochs = 10\n",
    "\n",
    "for epoch in range(num_epochs):\n",
    "    model.train()\n",
    "    running_loss = 0.0\n",
    "    print(\"Beginning epoch\", epoch + 1)\n",
    "    for i, (images, targets) in enumerate(data_loader, 0):\n",
    "        images = list(image.to(device) for image in images)\n",
    "        targets = [{k: v.to(device) for k, v in t.items()} for t in targets]\n",
    "\n",
    "        optimizer.zero_grad()\n",
    "        loss_dict = model(images, targets)\n",
    "        losses = sum(loss for loss in loss_dict.values())\n",
    "        losses.backward()\n",
    "        optimizer.step()\n",
    "\n",
    "        running_loss += losses.item()\n",
    "        if i % 10 == 9:  # Print every 10 batches\n",
    "            print(\n",
    "                f\"Epoch [{epoch+1}/{num_epochs}], Batch [{i+1}/{len(data_loader)}], Loss: {running_loss/10:.4f}\"\n",
    "            )\n",
    "            running_loss = 0.0\n",
    "\n",
    "print(\"Training finished.\")\n",
    "\n",
    "# Save the trained model\n",
    "torch.save(model.state_dict(), \"coin_detector.pth\")"
   ]
  },
  {
   "cell_type": "markdown",
   "metadata": {},
   "source": [
    "# Load an existing model"
   ]
  },
  {
   "cell_type": "markdown",
   "metadata": {},
   "source": [
    "Uncomment and run the next cell if you already have a trained model, and skip the above cell."
   ]
  },
  {
   "cell_type": "code",
   "execution_count": null,
   "metadata": {},
   "outputs": [],
   "source": [
    "# Load the trained model\n",
    "# model.load_state_dict(torch.load(\"coin_detector.pth\"))"
   ]
  },
  {
   "cell_type": "markdown",
   "metadata": {},
   "source": [
    "# Perform object localization on test images"
   ]
  },
  {
   "cell_type": "markdown",
   "metadata": {},
   "source": [
    "**IMPORTANT:** The folder structure of input test images must follow exactly:\n",
    "```\n",
    "data\n",
    "├── test\n",
    "│   ├── L1010277.JPG\n",
    "│   ├── L1010239.JPG\n",
    "```\n",
    "And the folder structure of output images will be:\n",
    "```\n",
    "output\n",
    "├── L0000000.JPG                        <---------------- This is a directory\n",
    "│   ├── 1920_1519_2595_2181.jpg         <---------------- This is an image of the 1st cropped coin, belonging to L0000000.JPG\n",
    "│   ├── 2780_2159_3326_2685.jpg         <---------------- This is an image of the 2nd cropped coin, belonging to L0000000.JPG\n",
    "├── L0000001.JPG                        \n",
    "│   ├── 1920_1519_2595_2181.jpg         \n",
    "│   ├── 2780_2159_3326_2685.jpg         \n",
    "```\n",
    "If an \"output\" folder already exists, please move it elsewhere or delete it."
   ]
  },
  {
   "cell_type": "code",
   "execution_count": null,
   "metadata": {},
   "outputs": [],
   "source": [
    "# Perform inference on test images\n",
    "model.eval()\n",
    "os.mkdir(\"output\")\n",
    "for img_name in os.listdir(\"data/test\"):\n",
    "    img_path = os.path.join(\"data/test\", img_name)\n",
    "    img = Image.open(img_path).convert(\"RGB\")\n",
    "    img_tensor = transforms(img).unsqueeze(0).to(device)\n",
    "    with torch.no_grad():\n",
    "        outputs = model(img_tensor)\n",
    "    # Create a directory for each image, where cropped coins will be saved\n",
    "    os.mkdir(f\"output/{img_name}\")\n",
    "    boxes = outputs[0][\"boxes\"].cpu().numpy()\n",
    "    # Crop coins from current image\n",
    "    for box in boxes:\n",
    "        xmin, ymin, xmax, ymax = box.astype(int)\n",
    "        coin = img.crop((xmin, ymin, xmax, ymax))\n",
    "        cropped_coin_path = os.path.join(\n",
    "            f\"output/{img_name}\", f\"{xmin}_{ymin}_{xmax}_{ymax}.jpg\"\n",
    "        )\n",
    "        coin.save(cropped_coin_path)"
   ]
  }
 ],
 "metadata": {
  "kernelspec": {
   "display_name": "iapr",
   "language": "python",
   "name": "python3"
  },
  "language_info": {
   "codemirror_mode": {
    "name": "ipython",
    "version": 3
   },
   "file_extension": ".py",
   "mimetype": "text/x-python",
   "name": "python",
   "nbconvert_exporter": "python",
   "pygments_lexer": "ipython3",
   "version": "3.9.18"
  }
 },
 "nbformat": 4,
 "nbformat_minor": 2
}
